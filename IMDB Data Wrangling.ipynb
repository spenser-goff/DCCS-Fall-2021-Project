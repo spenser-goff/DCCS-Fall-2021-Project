{
 "cells": [
  {
   "cell_type": "code",
   "execution_count": 2,
   "id": "07a897d4",
   "metadata": {},
   "outputs": [],
   "source": [
    "#Import packages\n",
    "import pandas as pd\n",
    "import numpy as np"
   ]
  },
  {
   "cell_type": "code",
   "execution_count": 13,
   "id": "6c40c86f",
   "metadata": {},
   "outputs": [],
   "source": [
    "imdb_df = pd.read_excel('movie_training.xlsx')\n",
    "\n",
    "imdb_df = imdb_df.drop(['actor_3_facebook_likes','actor_3_name','facenumber_in_poster','cast_total_facebook_likes','plot_keywords','movie_imdb_link','aspect_ratio'], axis = 1)\n",
    "\n",
    "imdb_df['genre'] = imdb_df['genres'].str.split('|')\n",
    "imdb_df['genre'] = imdb_df['genre'].str[0]\n",
    "imdb_df.drop(['genres'], axis = 1)\n",
    "\n",
    "imdb_df = imdb_df[['movie_title','title_year','duration','color','genre','language','country','content_rating','director_name','actor_1_name','actor_2_name','budget','gross','director_facebook_likes','actor_1_facebook_likes','actor_2_facebook_likes','movie_facebook_likes','num_critic_for_reviews','IMDB_user_votes','IMDB_user_reviews','IMDB_score']]\n",
    "\n",
    "imdb_df = imdb_df.dropna(subset = ['IMDB_score'])\n",
    "imdb_df['content_rating'][imdb_df['content_rating'] == 'Not Rated'] = 'Unrated'\n",
    "\n",
    "imdb_df['content_rating'].unique()\n",
    "\n",
    "imdb_df['color'][imdb_df['color'].isnull() ] = 'Color'\n",
    "\n",
    "imdb_df['duration'][imdb_df['duration'].isnull()] = np.nanmedian(imdb_df['duration'])\n",
    "\n",
    "imdb_df['budget'][imdb_df['budget'].isnull()] = np.nanmedian(imdb_df['budget'])\n",
    "\n",
    "imdb_df['gross'][imdb_df['gross'].isnull()] = np.nanmedian(imdb_df['gross'])\n",
    "\n",
    "imdb_df['actor_1_facebook_likes'][imdb_df['actor_1_facebook_likes'].isnull()] = np.nanmedian(imdb_df['actor_1_facebook_likes'])\n",
    "\n",
    "imdb_df['actor_2_facebook_likes'][imdb_df['actor_2_facebook_likes'].isnull()] = np.nanmedian(imdb_df['actor_2_facebook_likes'])\n",
    "\n",
    "imdb_df['num_critic_for_reviews'][imdb_df['num_critic_for_reviews'].isnull()] = np.nanmedian(imdb_df['num_critic_for_reviews'])\n",
    "\n",
    "imdb_df['IMDB_user_votes'][imdb_df['IMDB_user_votes'].isnull()] = np.nanmedian(imdb_df['IMDB_user_votes'])\n",
    "\n",
    "imdb_df['IMDB_user_reviews'][imdb_df['IMDB_user_reviews'].isnull()] = np.nanmedian(imdb_df['IMDB_user_reviews'])"
   ]
  },
  {
   "cell_type": "code",
   "execution_count": 15,
   "id": "5199f18e",
   "metadata": {},
   "outputs": [],
   "source": [
    "imdb_df.to_csv('finished_data_wrangling.csv')"
   ]
  }
 ],
 "metadata": {
  "kernelspec": {
   "display_name": "Python 3 (ipykernel)",
   "language": "python",
   "name": "python3"
  },
  "language_info": {
   "codemirror_mode": {
    "name": "ipython",
    "version": 3
   },
   "file_extension": ".py",
   "mimetype": "text/x-python",
   "name": "python",
   "nbconvert_exporter": "python",
   "pygments_lexer": "ipython3",
   "version": "3.8.8"
  }
 },
 "nbformat": 4,
 "nbformat_minor": 5
}
